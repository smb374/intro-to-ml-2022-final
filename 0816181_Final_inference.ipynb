{
 "cells": [
  {
   "cell_type": "markdown",
   "metadata": {},
   "source": [
    "# Inference Code"
   ]
  },
  {
   "cell_type": "markdown",
   "metadata": {},
   "source": [
    "Download dataset and pretrained models"
   ]
  },
  {
   "cell_type": "code",
   "execution_count": 17,
   "metadata": {},
   "outputs": [
    {
     "name": "stdout",
     "output_type": "stream",
     "text": [
      "Downloading...\n",
      "From: https://drive.google.com/uc?id=1bLxeZUA6Xsk7V6ktU4jGINm1O7hq2hHJ&confirm=t\n",
      "To: /home/poyehchen/Courses/introduction-to-machine-learning-2022/final/tabular-playground-series-aug-2022.zip\n",
      "100%|██████████████████████████████████████| 2.38M/2.38M [00:00<00:00, 55.2MB/s]\n",
      "Downloading...\n",
      "From: https://drive.google.com/uc?id=1kE_1AFNtRi-5lOEveMdhAdt-QOjEWrFR&confirm=t\n",
      "To: /home/poyehchen/Courses/introduction-to-machine-learning-2022/final/trained_model\n",
      "100%|██████████████████████████████████████| 19.3k/19.3k [00:00<00:00, 42.5MB/s]\n"
     ]
    }
   ],
   "source": [
    "# Download dataset\n",
    "! gdown \"https://drive.google.com/uc?id=1bLxeZUA6Xsk7V6ktU4jGINm1O7hq2hHJ&confirm=t\"\n",
    "# Download protrained model. Comment the following line to use \"trained_model\" from train code.\n",
    "! gdown \"https://drive.google.com/uc?id=1kE_1AFNtRi-5lOEveMdhAdt-QOjEWrFR&confirm=t\"\n",
    "! unzip -o -q tabular-playground-series-aug-2022.zip"
   ]
  },
  {
   "cell_type": "code",
   "execution_count": 18,
   "metadata": {},
   "outputs": [],
   "source": [
    "import numpy as np\n",
    "import pandas as pd\n",
    "import os\n",
    "import joblib\n",
    "from sklearn.impute import KNNImputer\n",
    "from sklearn.preprocessing import StandardScaler\n",
    "from scipy.stats import rankdata\n",
    "\n",
    "pd.set_option('display.max_columns', None)\n",
    "pd.set_option('display.max_rows', None)"
   ]
  },
  {
   "cell_type": "markdown",
   "metadata": {},
   "source": [
    "Set file paths and load pretrained model."
   ]
  },
  {
   "cell_type": "code",
   "execution_count": 19,
   "metadata": {},
   "outputs": [],
   "source": [
    "BASE = os.getcwd()\n",
    "test = pd.read_csv(BASE + \"/test.csv\")\n",
    "submission = pd.read_csv(BASE + \"/sample_submission.csv\")\n",
    "models = joblib.load(\"trained_model\")"
   ]
  },
  {
   "cell_type": "markdown",
   "metadata": {},
   "source": [
    "Preprocess `test` as we did to `train`"
   ]
  },
  {
   "cell_type": "code",
   "execution_count": 20,
   "metadata": {},
   "outputs": [
    {
     "name": "stdout",
     "output_type": "stream",
     "text": [
      "KNN imputing code F\n",
      "KNN imputing code G\n",
      "KNN imputing code H\n",
      "KNN imputing code I\n"
     ]
    }
   ],
   "source": [
    "data = test\n",
    "data[\"loading\"] = np.log1p(data[\"loading\"])\n",
    "feature = [f for f in data.columns if f.startswith(\"measurement\") or f == \"loading\"]\n",
    "\n",
    "for code in data.product_code.unique():\n",
    "    model = KNNImputer(n_neighbors=5)\n",
    "    print(f\"KNN imputing code {code}\")\n",
    "    data.loc[data.product_code==code, feature] = model.fit_transform(data.loc[data.product_code==code, feature])\n",
    "\n",
    "test = data"
   ]
  },
  {
   "cell_type": "code",
   "execution_count": 21,
   "metadata": {},
   "outputs": [],
   "source": [
    "def scale_data(data, feats):\n",
    "    scaler = StandardScaler()\n",
    "    \n",
    "    scaled_data = scaler.fit_transform(data[feats])\n",
    "    \n",
    "    new_data = data.copy()\n",
    "    \n",
    "    new_data[feats] = scaled_data\n",
    "    \n",
    "    assert len(data) == len(new_data)\n",
    "    \n",
    "    return new_data"
   ]
  },
  {
   "cell_type": "code",
   "execution_count": 22,
   "metadata": {},
   "outputs": [],
   "source": [
    "def predict_model(cur, select_feature):\n",
    "    lr_test = np.zeros(len(test))\n",
    "    for i in range(5):\n",
    "        test_data = test.copy()\n",
    "        test_data = scale_data(test_data, select_feature)\n",
    "        lr_test += models[cur][i].predict_proba(test_data[select_feature])[:, 1] / 5\n",
    "    submission[cur] = lr_test"
   ]
  },
  {
   "cell_type": "markdown",
   "metadata": {},
   "source": [
    "Use the pretrained models to predict `test`, with the same `select_feature` as we trained to `fs0`-`fs3`."
   ]
  },
  {
   "cell_type": "code",
   "execution_count": 23,
   "metadata": {},
   "outputs": [],
   "source": [
    "predict_model('fs0', ['measurement_2', 'loading', 'measurement_17'])\n",
    "predict_model('fs1', ['measurement_7', 'loading', 'measurement_17'])\n",
    "predict_model('fs2', ['measurement_5', 'loading', 'measurement_17'])\n",
    "predict_model('fs3', ['measurement_8', 'loading', 'measurement_17'])"
   ]
  },
  {
   "cell_type": "markdown",
   "metadata": {},
   "source": [
    "Produce prediction."
   ]
  },
  {
   "cell_type": "code",
   "execution_count": 24,
   "metadata": {},
   "outputs": [],
   "source": [
    "submission['rank0'] = rankdata(submission['fs0'])\n",
    "submission['rank1'] = rankdata(submission['fs1'])\n",
    "submission['rank2'] = rankdata(submission['fs2'])\n",
    "submission['rank3'] = rankdata(submission['fs3'])\n",
    "\n",
    "submission['failure'] = submission['rank0'] * 0.4 + submission['rank1'] * 0.3 + submission['rank2'] * 0.2 + submission['rank3'] * 0.1\n",
    "submission[['id', 'failure']].to_csv('submission.csv', index=False)"
   ]
  }
 ],
 "metadata": {
  "kernelspec": {
   "display_name": "Python 3.10.6 64-bit ('introduction-to-machine-learning-2022')",
   "language": "python",
   "name": "python3"
  },
  "language_info": {
   "codemirror_mode": {
    "name": "ipython",
    "version": 3
   },
   "file_extension": ".py",
   "mimetype": "text/x-python",
   "name": "python",
   "nbconvert_exporter": "python",
   "pygments_lexer": "ipython3",
   "version": "3.10.6"
  },
  "orig_nbformat": 4,
  "vscode": {
   "interpreter": {
    "hash": "282f8a6b862bc3f9555f04fafa7361fe37341ac29fa82d6f624ea51db1b2ad4a"
   }
  }
 },
 "nbformat": 4,
 "nbformat_minor": 2
}
